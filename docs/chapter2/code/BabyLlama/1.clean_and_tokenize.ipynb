{
 "cells": [
  {
   "cell_type": "code",
   "execution_count": 1,
   "metadata": {},
   "outputs": [],
   "source": [
    "# 复制自：https://github.com/timinar/BabyLlama"
   ]
  },
  {
   "cell_type": "code",
   "execution_count": 2,
   "metadata": {},
   "outputs": [],
   "source": [
    "# 下载两份数据：https://osf.io/5mk3x, https://osf.io/m48ed\n",
    "# 将两份数据解压到当前目录下的data文件夹中\n",
    "# data目录结构如下：\n",
    "# data/\n",
    "#   |--train_10M/\n",
    "#   |--dev/"
   ]
  },
  {
   "cell_type": "markdown",
   "metadata": {},
   "source": [
    "# Basic data cleaning and tokenization"
   ]
  },
  {
   "cell_type": "markdown",
   "metadata": {},
   "source": [
    "## Cleaning\n",
    "\n",
    "Some simple, regex-based cleaning is performed on train and dev datasets, e.g. to remove HTML tags from Wikipedia articles, non-verbal cues from subtitles, or even to correct I’s that were incorrectly recognized as l’s in OCR’ed uppercase text."
   ]
  },
  {
   "cell_type": "code",
   "execution_count": 3,
   "metadata": {},
   "outputs": [],
   "source": [
    "from pathlib import Path\n",
    "from mrclean import *\n",
    "import os"
   ]
  },
  {
   "cell_type": "code",
   "execution_count": 4,
   "metadata": {},
   "outputs": [],
   "source": [
    "DATA_ROOT = Path(\"./data\")\n",
    "SEQ_LENGTH = 128 # this is a legacy parameter, it does not affect cleaning\n",
    "DATA_SPLITS = ['train_10M', 'dev']\n",
    "\n",
    "CLEANUP_FUNCTIONS = {\n",
    "    'aochildes': cleanup_aochildes,\n",
    "    'bnc_spoken': cleanup_bnc_spoken,\n",
    "    'cbt': cleanup_cbt,\n",
    "    'childes': cleanup_children_stories,\n",
    "    'gutenberg': cleanup_gutenberg,\n",
    "    'open_subtitles': cleanup_open_subtitles,\n",
    "    'qed': cleanup_qed,\n",
    "    'simple_wiki': cleanup_simple_wikipedia,\n",
    "    'switchboard': cleanup_switchboard,\n",
    "    'wikipedia': cleanup_wikipedia,\n",
    "}\n"
   ]
  },
  {
   "cell_type": "code",
   "execution_count": 5,
   "metadata": {},
   "outputs": [
    {
     "name": "stdout",
     "output_type": "stream",
     "text": [
      "🧹 Cleaned 'childes.train' (size 15482927 -> 15482927) in train_10M\n",
      "🧹 Cleaned 'simple_wiki.train' (size 8411630 -> 8387062) in train_10M\n",
      "🧹 Cleaned 'bnc_spoken.train' (size 4883879 -> 4851676) in train_10M\n",
      "🧹 Cleaned 'gutenberg.train' (size 13910986 -> 13910986) in train_10M\n",
      "🧹 Cleaned 'switchboard.train' (size 719322 -> 719322) in train_10M\n",
      "🧹 Cleaned 'open_subtitles.train' (size 10806305 -> 10804026) in train_10M\n",
      "🧹 Cleaned 'switchboard.dev' (size 724013 -> 724013) in dev\n",
      "🧹 Cleaned 'simple_wiki.dev' (size 8149513 -> 8128239) in dev\n",
      "🧹 Cleaned 'gutenberg.dev' (size 15490473 -> 15490473) in dev\n",
      "🧹 Cleaned 'bnc_spoken.dev' (size 6538139 -> 6503778) in dev\n",
      "🧹 Cleaned 'open_subtitles.dev' (size 11016133 -> 11014854) in dev\n",
      "🧹 Cleaned 'childes.dev' (size 14638378 -> 14638378) in dev\n"
     ]
    }
   ],
   "source": [
    "for split in DATA_SPLITS:\n",
    "    INPUT_DIR = DATA_ROOT /  split\n",
    "    OUTPUT_DIR = DATA_ROOT / f'{split}_clean'\n",
    "    \n",
    "    OUTPUT_DIR.mkdir(exist_ok=True)\n",
    "\n",
    "    train_files = [f for f in INPUT_DIR.iterdir() if f.is_file() and f.suffix in ['.train', '.dev']]\n",
    "    \n",
    "    for file in train_files:\n",
    "        text = file.read_text(encoding='utf-8')\n",
    "        cleaned_text = CLEANUP_FUNCTIONS[file.stem](text, SEQ_LENGTH)\n",
    "        (OUTPUT_DIR / file.name).write_text(cleaned_text, encoding='utf-8')\n",
    "        print(f\"🧹 Cleaned '{file.name}' (size {len(text)} -> {len(cleaned_text)}) in {split}\")\n"
   ]
  },
  {
   "cell_type": "markdown",
   "metadata": {},
   "source": [
    "## Training a tokenizer"
   ]
  },
  {
   "cell_type": "code",
   "execution_count": 6,
   "metadata": {},
   "outputs": [],
   "source": [
    "from pathlib import Path\n",
    "from tokenizers import (Tokenizer, decoders, models, pre_tokenizers,\n",
    "                        processors, trainers)\n",
    "from tokenizers.normalizers import NFKC"
   ]
  },
  {
   "cell_type": "code",
   "execution_count": 7,
   "metadata": {},
   "outputs": [
    {
     "name": "stdout",
     "output_type": "stream",
     "text": [
      "6\n"
     ]
    }
   ],
   "source": [
    "# We train the tokenizer on the train data only\n",
    "data_dir = Path(\"./data/train_10M_clean/\")\n",
    "\n",
    "paths = [str(f) for f in data_dir.glob(\"*\") if f.is_file() and not f.name.endswith(\".DS_Store\") and f.suffix in [\".train\"]]\n",
    "\n",
    "# paths\n",
    "print(len(paths))\n",
    "assert len(paths) > 0, 'No data files found'"
   ]
  },
  {
   "cell_type": "code",
   "execution_count": 8,
   "metadata": {},
   "outputs": [],
   "source": [
    "tokenizer = Tokenizer(models.BPE())\n",
    "\n",
    "tokenizer.pre_tokenizer = pre_tokenizers.ByteLevel(add_prefix_space=True)\n",
    "tokenizer.decoder = decoders.ByteLevel()\n",
    "tokenizer.post_processor = processors.ByteLevel(trim_offsets=True)\n",
    "tokenizer.normalizer = NFKC()"
   ]
  },
  {
   "cell_type": "code",
   "execution_count": 9,
   "metadata": {},
   "outputs": [
    {
     "name": "stdout",
     "output_type": "stream",
     "text": [
      "\n",
      "\n",
      "\n"
     ]
    }
   ],
   "source": [
    "trainer = trainers.BpeTrainer(vocab_size=16000, min_frequency=2, special_tokens=[\"<pad>\", \"<s>\", \"</s>\"])\n",
    "tokenizer.train(paths, trainer)"
   ]
  },
  {
   "cell_type": "code",
   "execution_count": 10,
   "metadata": {},
   "outputs": [],
   "source": [
    "tokenizer_path = \"./models/gpt-clean-16000.json\"\n",
    "os.makedirs(\"models\", exist_ok=True)\n",
    "tokenizer.save(str(tokenizer_path), pretty=True)"
   ]
  },
  {
   "cell_type": "markdown",
   "metadata": {},
   "source": [
    "## Testing the tokenizer"
   ]
  },
  {
   "cell_type": "code",
   "execution_count": 11,
   "metadata": {},
   "outputs": [
    {
     "name": "stdout",
     "output_type": "stream",
     "text": [
      "Encoded String: ['ĠThe', 'Ġquick', 'Ġbrown', 'Ġfox', 'Ġjumps', 'Ġover', 'Ġthe', 'Ġlazy', 'Ġdog', '.']\n",
      "Encoded IDs: [300, 1782, 3264, 5710, 15959, 539, 188, 11551, 1467, 16]\n",
      "Decoded String:  The quick brown fox jumps over the lazy dog.\n"
     ]
    }
   ],
   "source": [
    "\n",
    "tokenizer = Tokenizer.from_file(str(tokenizer_path))\n",
    "\n",
    "\n",
    "# text = 'Shiro Okada (岡田志郎, \"Okada Shirō\", June 9, 1949; Hirakata, Osaka {age 71} - ) is a Japanese guitarist who participate in the Group Sound band, the Ox. His nickname was Shiro (シロー) and his real name is Shiro Okamoto (岡田史郎).'\n",
    "text = \"The quick brown fox jumps over the lazy dog.\"\n",
    "\n",
    "encoded = tokenizer.encode(text)\n",
    "print(f\"Encoded String: {encoded.tokens}\")\n",
    "\n",
    "print(f\"Encoded IDs: {encoded.ids}\")\n",
    "\n",
    "decoded = tokenizer.decode(encoded.ids)\n",
    "print(f\"Decoded String: {decoded}\")\n"
   ]
  },
  {
   "cell_type": "code",
   "execution_count": null,
   "metadata": {},
   "outputs": [],
   "source": []
  }
 ],
 "metadata": {
  "kernelspec": {
   "display_name": "dl2",
   "language": "python",
   "name": "python3"
  },
  "language_info": {
   "codemirror_mode": {
    "name": "ipython",
    "version": 3
   },
   "file_extension": ".py",
   "mimetype": "text/x-python",
   "name": "python",
   "nbconvert_exporter": "python",
   "pygments_lexer": "ipython3",
   "version": "3.9.20"
  },
  "orig_nbformat": 4
 },
 "nbformat": 4,
 "nbformat_minor": 2
}
